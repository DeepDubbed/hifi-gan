{
 "metadata": {
  "language_info": {
   "codemirror_mode": {
    "name": "ipython",
    "version": 3
   },
   "file_extension": ".py",
   "mimetype": "text/x-python",
   "name": "python",
   "nbconvert_exporter": "python",
   "pygments_lexer": "ipython3",
   "version": "3.7.9-final"
  },
  "orig_nbformat": 2,
  "kernelspec": {
   "name": "python3",
   "display_name": "Python 3",
   "language": "python"
  }
 },
 "nbformat": 4,
 "nbformat_minor": 2,
 "cells": [
  {
   "cell_type": "code",
   "execution_count": 19,
   "metadata": {},
   "outputs": [],
   "source": [
    "import os\n",
    "import numpy as np\n",
    "import meldataset as m\n",
    "from librosa.util import normalize\n",
    "import torch"
   ]
  },
  {
   "cell_type": "code",
   "execution_count": 20,
   "metadata": {},
   "outputs": [],
   "source": [
    "num_mels = 80\n",
    "n_fft = 1024\n",
    "hop_size = 256\n",
    "win_size = 1024\n",
    "fmin = 0\n",
    "fmax = 11025\n",
    "base_mels_path = '/home/mihai/data/deepdubbed/mels'"
   ]
  },
  {
   "cell_type": "code",
   "execution_count": 22,
   "metadata": {
    "tags": []
   },
   "outputs": [],
   "source": [
    "files = np.array([f.path for f in os.scandir('/home/mihai/data/deepdubbed/wavs')])\n",
    "for filename in files:\n",
    "    mel_path = os.path.join(base_mels_path, os.path.splitext(os.path.split(filename)[-1])[0] + '.npy')\n",
    "    # if os.path.exists(mel_path):\n",
    "    #     continue\n",
    "    audio, sampling_rate = m.load_wav(filename)\n",
    "    audio = audio / m.MAX_WAV_VALUE\n",
    "    # audio = normalize(audio) * 0.95\n",
    "    audio = torch.FloatTensor(audio)\n",
    "    audio = audio.unsqueeze(0)\n",
    "    mel = m.mel_spectrogram(audio, n_fft, num_mels, sampling_rate, hop_size, win_size, fmin, fmax, center=False)\n",
    "    np.save(mel_path, mel.numpy())"
   ]
  },
  {
   "cell_type": "code",
   "execution_count": 13,
   "metadata": {},
   "outputs": [
    {
     "output_type": "execute_result",
     "data": {
      "text/plain": [
       "array([[[-4.5266647, -5.916904 , -6.0472403, ..., -4.665489 ,\n",
       "         -4.404129 , -4.9663987],\n",
       "        [-4.5323353, -5.3908815, -5.728906 , ..., -2.8193817,\n",
       "         -2.8415217, -3.7274718],\n",
       "        [-4.7515163, -4.804778 , -5.2161226, ..., -2.851524 ,\n",
       "         -2.7180223, -3.479126 ],\n",
       "        ...,\n",
       "        [-8.158708 , -8.111948 , -7.9804244, ..., -7.9968915,\n",
       "         -7.972659 , -8.12182  ],\n",
       "        [-8.200197 , -8.008339 , -7.964073 , ..., -8.078567 ,\n",
       "         -7.9235287, -7.810642 ],\n",
       "        [-8.174135 , -8.202055 , -8.173363 , ..., -8.291376 ,\n",
       "         -8.189446 , -7.9480577]]], dtype=float32)"
      ]
     },
     "metadata": {},
     "execution_count": 13
    }
   ],
   "source": []
  },
  {
   "cell_type": "code",
   "execution_count": 9,
   "metadata": {},
   "outputs": [
    {
     "output_type": "execute_result",
     "data": {
      "text/plain": [
       "'/home/mihai/data/deepdubbed/wavs/SJALICE-01.wav'"
      ]
     },
     "metadata": {},
     "execution_count": 9
    }
   ],
   "source": [
    "f"
   ]
  },
  {
   "cell_type": "code",
   "execution_count": null,
   "metadata": {},
   "outputs": [],
   "source": []
  }
 ]
}